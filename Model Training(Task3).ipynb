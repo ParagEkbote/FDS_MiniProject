{
 "cells": [
  {
   "cell_type": "markdown",
   "id": "de9ad4c7",
   "metadata": {},
   "source": []
  },
  {
   "cell_type": "code",
   "execution_count": 1,
   "id": "a9bbbe60",
   "metadata": {},
   "outputs": [
    {
     "name": "stdout",
     "output_type": "stream",
     "text": [
      "✅ XGBoost Accuracy: 0.5441\n",
      "🕒 Training Time: 433.00 seconds\n",
      "              precision    recall  f1-score   support\n",
      "\n",
      "           0       0.62      0.73      0.67        11\n",
      "           1       0.92      0.92      0.92        12\n",
      "           2       0.54      0.44      0.48        16\n",
      "           3       0.30      0.55      0.39        11\n",
      "           4       0.50      0.28      0.36        18\n",
      "\n",
      "    accuracy                           0.54        68\n",
      "   macro avg       0.57      0.58      0.56        68\n",
      "weighted avg       0.57      0.54      0.54        68\n",
      "\n"
     ]
    },
    {
     "data": {
      "text/plain": [
       "['xgboost_model.pkl']"
      ]
     },
     "execution_count": 1,
     "metadata": {},
     "output_type": "execute_result"
    }
   ],
   "source": [
    "import pandas as pd\n",
    "import time\n",
    "import joblib\n",
    "from sklearn.model_selection import train_test_split\n",
    "from sklearn.metrics import accuracy_score, classification_report\n",
    "from xgboost import XGBClassifier\n",
    "\n",
    "# Load dataset\n",
    "df = pd.read_csv(\"transformed_land_mines.csv\")\n",
    "\n",
    "# Prepare data\n",
    "X = df.drop(columns=[\"M\",\"V\"])\n",
    "y = df[\"M\"]-1\n",
    "\n",
    "# Split into train-test sets\n",
    "X_train, X_test, y_train, y_test = train_test_split(X, y, test_size=0.2, random_state=42)\n",
    "\n",
    "model = XGBClassifier(\n",
    "    eval_metric=\"logloss\",  \n",
    "    booster=\"dart\",  # Dropout-based boosting  \n",
    "    n_estimators=2000,  \n",
    "    max_depth=10,  \n",
    "    learning_rate=0.7,  \n",
    "    subsample=0.8,  \n",
    "    colsample_bytree=0.8,  \n",
    "    reg_lambda=18,\n",
    "    reg_alpha=0.6,  # L2 regularization term (adjust this value as needed)\n",
    ")\n",
    "\n",
    "\n",
    "\n",
    "# Train\n",
    "start_time = time.time()\n",
    "model.fit(X_train, y_train)\n",
    "end_time = time.time()\n",
    "\n",
    "# Evaluate\n",
    "y_pred = model.predict(X_test)\n",
    "accuracy = accuracy_score(y_test, y_pred)\n",
    "\n",
    "print(f\"✅ XGBoost Accuracy: {accuracy:.4f}\")\n",
    "print(f\"🕒 Training Time: {end_time - start_time:.2f} seconds\")\n",
    "print(classification_report(y_test, y_pred))\n",
    "\n",
    "# Save model\n",
    "joblib.dump(model, \"xgboost_model.pkl\")\n"
   ]
  }
 ],
 "metadata": {
  "kernelspec": {
   "display_name": "fds",
   "language": "python",
   "name": "python3"
  },
  "language_info": {
   "codemirror_mode": {
    "name": "ipython",
    "version": 3
   },
   "file_extension": ".py",
   "mimetype": "text/x-python",
   "name": "python",
   "nbconvert_exporter": "python",
   "pygments_lexer": "ipython3",
   "version": "3.12.1"
  }
 },
 "nbformat": 4,
 "nbformat_minor": 5
}
