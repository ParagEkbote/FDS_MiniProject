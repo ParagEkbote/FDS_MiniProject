{
 "cells": [
  {
   "cell_type": "markdown",
   "metadata": {},
   "source": [
    "### Model Building and Evaluation"
   ]
  },
  {
   "cell_type": "markdown",
   "metadata": {},
   "source": [
    "Training: XGBoost"
   ]
  },
  {
   "cell_type": "code",
   "execution_count": 1,
   "metadata": {},
   "outputs": [
    {
     "name": "stdout",
     "output_type": "stream",
     "text": [
      "✅ XGBoost Accuracy: 0.5294\n",
      "🕒 Training Time: 52.80 seconds\n",
      "              precision    recall  f1-score   support\n",
      "\n",
      "           0       0.58      0.64      0.61        11\n",
      "           1       0.92      0.92      0.92        12\n",
      "           2       0.54      0.44      0.48        16\n",
      "           3       0.30      0.55      0.39        11\n",
      "           4       0.45      0.28      0.34        18\n",
      "\n",
      "    accuracy                           0.53        68\n",
      "   macro avg       0.56      0.56      0.55        68\n",
      "weighted avg       0.55      0.53      0.53        68\n",
      "\n"
     ]
    },
    {
     "data": {
      "text/plain": [
       "['xgboost_model.pkl']"
      ]
     },
     "execution_count": 1,
     "metadata": {},
     "output_type": "execute_result"
    }
   ],
   "source": [
    "import pandas as pd\n",
    "import time\n",
    "import joblib\n",
    "from sklearn.model_selection import train_test_split\n",
    "from sklearn.metrics import accuracy_score, classification_report\n",
    "from xgboost import XGBClassifier\n",
    "\n",
    "# Load dataset\n",
    "df = pd.read_csv(\"transformed_land_mines.csv\")\n",
    "\n",
    "# Prepare data\n",
    "X = df.drop(columns=[\"M\",\"V\"])\n",
    "y = df[\"M\"]-1\n",
    "\n",
    "# Split into train-test sets\n",
    "X_train, X_test, y_train, y_test = train_test_split(X, y, test_size=0.2, random_state=42)\n",
    "\n",
    "model = XGBClassifier(\n",
    "    eval_metric=\"logloss\",  \n",
    "    booster=\"dart\",  # Dropout-based boosting  \n",
    "    n_estimators=1000,  \n",
    "    max_depth=10,  \n",
    "    learning_rate=0.7,  \n",
    "    subsample=0.8,  \n",
    "    colsample_bytree=0.8,  \n",
    "    reg_lambda=18,\n",
    "    reg_alpha=0.6,  # L2 regularization term (adjust this value as needed)\n",
    ")\n",
    "\n",
    "\n",
    "\n",
    "# Train\n",
    "start_time = time.time()\n",
    "model.fit(X_train, y_train)\n",
    "end_time = time.time()\n",
    "\n",
    "# Evaluate\n",
    "y_pred = model.predict(X_test)\n",
    "accuracy = accuracy_score(y_test, y_pred)\n",
    "\n",
    "print(f\"✅ XGBoost Accuracy: {accuracy:.4f}\")\n",
    "print(f\"🕒 Training Time: {end_time - start_time:.2f} seconds\")\n",
    "print(classification_report(y_test, y_pred))\n",
    "\n",
    "# Save model\n",
    "joblib.dump(model, \"xgboost_model.pkl\")\n"
   ]
  },
  {
   "cell_type": "markdown",
   "metadata": {},
   "source": []
  },
  {
   "cell_type": "code",
   "execution_count": 9,
   "metadata": {},
   "outputs": [
    {
     "name": "stdout",
     "output_type": "stream",
     "text": [
      "✅ AdaBoost Accuracy: 0.5735\n",
      "🕒 Training Time: 0.95 seconds\n",
      "              precision    recall  f1-score   support\n",
      "\n",
      "           0       0.67      0.91      0.77        11\n",
      "           1       0.92      0.92      0.92        12\n",
      "           2       0.47      0.44      0.45        16\n",
      "           3       0.35      0.55      0.43        11\n",
      "           4       0.56      0.28      0.37        18\n",
      "\n",
      "    accuracy                           0.57        68\n",
      "   macro avg       0.59      0.62      0.59        68\n",
      "weighted avg       0.58      0.57      0.56        68\n",
      "\n"
     ]
    },
    {
     "data": {
      "text/plain": [
       "['adaboost_model.pkl']"
      ]
     },
     "execution_count": 9,
     "metadata": {},
     "output_type": "execute_result"
    }
   ],
   "source": [
    "import pandas as pd\n",
    "import time\n",
    "import joblib\n",
    "from sklearn.model_selection import train_test_split\n",
    "from sklearn.metrics import accuracy_score, classification_report\n",
    "from sklearn.ensemble import AdaBoostClassifier\n",
    "from sklearn.tree import DecisionTreeClassifier\n",
    "\n",
    "# Load dataset\n",
    "df = pd.read_csv(\"transformed_land_mines.csv\")\n",
    "\n",
    "# Prepare data\n",
    "X = df.drop(columns=[\"M\", \"V\"])\n",
    "y = df[\"M\"] - 1\n",
    "\n",
    "# Split into train-test sets\n",
    "X_train, X_test, y_train, y_test = train_test_split(X, y, test_size=0.2, random_state=42)\n",
    "\n",
    "# Initialize AdaBoost model with a base estimator\n",
    "base_estimator = DecisionTreeClassifier(max_depth=7)  # Base weak learner\n",
    "model = AdaBoostClassifier(\n",
    "    estimator=base_estimator,\n",
    "    n_estimators=500,\n",
    "    learning_rate=0.8\n",
    ")\n",
    "\n",
    "# Train\n",
    "start_time = time.time()\n",
    "model.fit(X_train, y_train)\n",
    "end_time = time.time()\n",
    "\n",
    "# Evaluate\n",
    "y_pred = model.predict(X_test)\n",
    "accuracy = accuracy_score(y_test, y_pred)\n",
    "\n",
    "print(f\"✅ AdaBoost Accuracy: {accuracy:.4f}\")\n",
    "print(f\"🕒 Training Time: {end_time - start_time:.2f} seconds\")\n",
    "print(classification_report(y_test, y_pred))\n",
    "\n",
    "# Save model\n",
    "joblib.dump(model, \"adaboost_model.pkl\")\n"
   ]
  },
  {
   "cell_type": "markdown",
   "metadata": {},
   "source": [
    "CatBoost"
   ]
  },
  {
   "cell_type": "code",
   "execution_count": 1,
   "metadata": {},
   "outputs": [
    {
     "name": "stdout",
     "output_type": "stream",
     "text": [
      "Learning rate set to 0.238816\n",
      "0:\tlearn: 0.5592593\ttotal: 53.4ms\tremaining: 13.3s\n",
      "50:\tlearn: 0.8592593\ttotal: 111ms\tremaining: 432ms\n",
      "100:\tlearn: 0.9703704\ttotal: 157ms\tremaining: 231ms\n",
      "150:\tlearn: 0.9925926\ttotal: 207ms\tremaining: 135ms\n",
      "200:\tlearn: 1.0000000\ttotal: 254ms\tremaining: 62ms\n",
      "249:\tlearn: 1.0000000\ttotal: 298ms\tremaining: 0us\n",
      "✅ CatBoost Accuracy: 0.5882\n",
      "🕒 Training Time: 0.38 seconds\n",
      "              precision    recall  f1-score   support\n",
      "\n",
      "           0       0.71      0.91      0.80        11\n",
      "           1       0.85      0.92      0.88        12\n",
      "           2       0.53      0.50      0.52        16\n",
      "           3       0.40      0.55      0.46        11\n",
      "           4       0.45      0.28      0.34        18\n",
      "\n",
      "    accuracy                           0.59        68\n",
      "   macro avg       0.59      0.63      0.60        68\n",
      "weighted avg       0.58      0.59      0.57        68\n",
      "\n"
     ]
    },
    {
     "data": {
      "text/plain": [
       "['catboost_model.pkl']"
      ]
     },
     "execution_count": 1,
     "metadata": {},
     "output_type": "execute_result"
    }
   ],
   "source": [
    "import pandas as pd\n",
    "import time\n",
    "import joblib\n",
    "from sklearn.model_selection import train_test_split\n",
    "from sklearn.metrics import accuracy_score, classification_report\n",
    "from catboost import CatBoostClassifier\n",
    "\n",
    "# Load dataset\n",
    "df = pd.read_csv(\"transformed_land_mines.csv\")\n",
    "\n",
    "# Prepare data\n",
    "X = df.drop(columns=[\"M\", \"V\"])\n",
    "y = df[\"M\"] - 1\n",
    "\n",
    "# Split into train-test sets\n",
    "X_train, X_test, y_train, y_test = train_test_split(X, y, test_size=0.2, random_state=42)\n",
    "\n",
    "# Initialize model\n",
    "model = CatBoostClassifier(iterations=250, eval_metric=\"Accuracy\", verbose=50)\n",
    "\n",
    "# Train\n",
    "start_time = time.time()\n",
    "model.fit(X_train, y_train)\n",
    "end_time = time.time()\n",
    "\n",
    "# Evaluate\n",
    "y_pred = model.predict(X_test)\n",
    "accuracy = accuracy_score(y_test, y_pred)\n",
    "\n",
    "print(f\"✅ CatBoost Accuracy: {accuracy:.4f}\")\n",
    "print(f\"🕒 Training Time: {end_time - start_time:.2f} seconds\")\n",
    "print(classification_report(y_test, y_pred))\n",
    "\n",
    "# Save model\n",
    "joblib.dump(model, \"catboost_model.pkl\")\n"
   ]
  },
  {
   "cell_type": "markdown",
   "metadata": {},
   "source": [
    "Logistic Regression"
   ]
  },
  {
   "cell_type": "code",
   "execution_count": 2,
   "metadata": {},
   "outputs": [
    {
     "name": "stdout",
     "output_type": "stream",
     "text": [
      "✅ Logistic Regression Accuracy: 0.4412\n",
      "🕒 Training Time: 0.01 seconds\n",
      "              precision    recall  f1-score   support\n",
      "\n",
      "           0       0.52      0.87      0.65        15\n",
      "           1       0.88      1.00      0.93        14\n",
      "           2       0.25      0.15      0.19        13\n",
      "           3       0.00      0.00      0.00        13\n",
      "           4       0.08      0.08      0.08        13\n",
      "\n",
      "    accuracy                           0.44        68\n",
      "   macro avg       0.34      0.42      0.37        68\n",
      "weighted avg       0.36      0.44      0.39        68\n",
      "\n",
      "🎉 Model saved as 'logistic_regression_model.pkl'\n"
     ]
    },
    {
     "name": "stderr",
     "output_type": "stream",
     "text": [
      "/workspaces/FDS_MiniProject/FDS/lib/python3.12/site-packages/sklearn/linear_model/_logistic.py:1247: FutureWarning: 'multi_class' was deprecated in version 1.5 and will be removed in 1.7. From then on, it will always use 'multinomial'. Leave it to its default value to avoid this warning.\n",
      "  warnings.warn(\n"
     ]
    }
   ],
   "source": [
    "import pandas as pd\n",
    "import time\n",
    "import joblib\n",
    "from sklearn.model_selection import train_test_split\n",
    "from sklearn.linear_model import LogisticRegression\n",
    "from sklearn.metrics import accuracy_score, classification_report\n",
    "\n",
    "# Load dataset\n",
    "df = pd.read_csv(\"transformed_land_mines.csv\")\n",
    "\n",
    "# Prepare data\n",
    "X = df.drop(columns=[\"M\", \"V_log\"])\n",
    "y = df[\"M\"] - 1  # Adjust target variable if necessary\n",
    "\n",
    "# Split into train-test sets\n",
    "X_train, X_test, y_train, y_test = train_test_split(X, y, test_size=0.2, random_state=42, stratify=y)\n",
    "\n",
    "# Initialize Logistic Regression model\n",
    "model = LogisticRegression(max_iter=1000, solver=\"lbfgs\", multi_class=\"auto\")\n",
    "\n",
    "# Train\n",
    "start_time = time.time()\n",
    "model.fit(X_train, y_train)\n",
    "end_time = time.time()\n",
    "\n",
    "# Evaluate\n",
    "y_pred = model.predict(X_test)\n",
    "accuracy = accuracy_score(y_test, y_pred)\n",
    "\n",
    "print(f\"✅ Logistic Regression Accuracy: {accuracy:.4f}\")\n",
    "print(f\"🕒 Training Time: {end_time - start_time:.2f} seconds\")\n",
    "print(classification_report(y_test, y_pred))\n",
    "\n",
    "# Save model\n",
    "joblib.dump(model, \"logistic_regression_model.pkl\")\n",
    "print(\"🎉 Model saved as 'logistic_regression_model.pkl'\")\n"
   ]
  },
  {
   "cell_type": "markdown",
   "metadata": {},
   "source": [
    "Training: Random Forest"
   ]
  },
  {
   "cell_type": "code",
   "execution_count": null,
   "metadata": {},
   "outputs": [
    {
     "name": "stdout",
     "output_type": "stream",
     "text": [
      "✅ RandomForest Accuracy: 0.5294\n",
      "🕒 Training Time: 0.29 seconds\n",
      "              precision    recall  f1-score   support\n",
      "\n",
      "           0       0.67      0.91      0.77        11\n",
      "           1       0.85      0.92      0.88        12\n",
      "           2       0.42      0.31      0.36        16\n",
      "           3       0.38      0.55      0.44        11\n",
      "           4       0.33      0.22      0.27        18\n",
      "\n",
      "    accuracy                           0.53        68\n",
      "   macro avg       0.53      0.58      0.54        68\n",
      "weighted avg       0.50      0.53      0.51        68\n",
      "\n"
     ]
    },
    {
     "data": {
      "text/plain": [
       "['randomforest_model.pkl']"
      ]
     },
     "execution_count": 5,
     "metadata": {},
     "output_type": "execute_result"
    }
   ],
   "source": [
    "import pandas as pd\n",
    "import time\n",
    "import joblib\n",
    "from sklearn.model_selection import train_test_split\n",
    "from sklearn.ensemble import RandomForestClassifier\n",
    "from sklearn.metrics import accuracy_score, classification_report\n",
    "\n",
    "# Load dataset\n",
    "df = pd.read_csv(\"transformed_land_mines.csv\")\n",
    "\n",
    "# Prepare data\n",
    "X = df.drop(columns=[\"M\",\"V\"])\n",
    "y = df[\"M\"]-1\n",
    "\n",
    "# Split into train-test sets\n",
    "X_train, X_test, y_train, y_test = train_test_split(X, y, test_size=0.2, random_state=42)\n",
    "\n",
    "# Initialize model\n",
    "model = RandomForestClassifier(n_estimators=250)\n",
    "\n",
    "# Train\n",
    "start_time = time.time()\n",
    "model.fit(X_train, y_train)\n",
    "end_time = time.time()\n",
    "\n",
    "# Evaluate\n",
    "y_pred = model.predict(X_test)\n",
    "accuracy = accuracy_score(y_test, y_pred)\n",
    "\n",
    "print(f\"✅ RandomForest Accuracy: {accuracy:.4f}\")\n",
    "print(f\"🕒 Training Time: {end_time - start_time:.2f} seconds\")\n",
    "print(classification_report(y_test, y_pred))\n",
    "\n",
    "# Save model\n",
    "joblib.dump(model, \"randomforest_model.pkl\")\n"
   ]
  },
  {
   "cell_type": "markdown",
   "metadata": {},
   "source": [
    "Training: Extra Trees"
   ]
  },
  {
   "cell_type": "code",
   "execution_count": 8,
   "metadata": {},
   "outputs": [
    {
     "name": "stdout",
     "output_type": "stream",
     "text": [
      "✅ ExtraTrees Accuracy: 0.4706\n",
      "🕒 Training Time: 0.24 seconds\n",
      "              precision    recall  f1-score   support\n",
      "\n",
      "           0       0.62      0.91      0.74        11\n",
      "           1       0.85      0.92      0.88        12\n",
      "           2       0.25      0.19      0.21        16\n",
      "           3       0.36      0.45      0.40        11\n",
      "           4       0.23      0.17      0.19        18\n",
      "\n",
      "    accuracy                           0.47        68\n",
      "   macro avg       0.46      0.53      0.49        68\n",
      "weighted avg       0.43      0.47      0.44        68\n",
      "\n"
     ]
    },
    {
     "data": {
      "text/plain": [
       "['extratrees_model.pkl']"
      ]
     },
     "execution_count": 8,
     "metadata": {},
     "output_type": "execute_result"
    }
   ],
   "source": [
    "import pandas as pd\n",
    "import time\n",
    "import joblib\n",
    "from sklearn.model_selection import train_test_split\n",
    "from sklearn.ensemble import ExtraTreesClassifier\n",
    "from sklearn.metrics import accuracy_score, classification_report\n",
    "\n",
    "# Load dataset\n",
    "df = pd.read_csv(\"transformed_land_mines.csv\")\n",
    "\n",
    "# Prepare data\n",
    "X = df.drop(columns=[\"M\",\"V\"])\n",
    "y = df[\"M\"]-1\n",
    "\n",
    "# Split into train-test sets\n",
    "X_train, X_test, y_train, y_test = train_test_split(X, y, test_size=0.2, random_state=42)\n",
    "\n",
    "# Initialize model\n",
    "model = ExtraTreesClassifier(n_estimators=250, random_state=42)\n",
    "\n",
    "# Train\n",
    "start_time = time.time()\n",
    "model.fit(X_train, y_train)\n",
    "end_time = time.time()\n",
    "\n",
    "# Evaluate\n",
    "y_pred = model.predict(X_test)\n",
    "accuracy = accuracy_score(y_test, y_pred)\n",
    "\n",
    "print(f\"✅ ExtraTrees Accuracy: {accuracy:.4f}\")\n",
    "print(f\"🕒 Training Time: {end_time - start_time:.2f} seconds\")\n",
    "print(classification_report(y_test, y_pred))\n",
    "\n",
    "# Save model\n",
    "joblib.dump(model, \"extratrees_model.pkl\")\n"
   ]
  },
  {
   "cell_type": "markdown",
   "metadata": {},
   "source": [
    "Training: SVM"
   ]
  },
  {
   "cell_type": "code",
   "execution_count": 32,
   "metadata": {},
   "outputs": [
    {
     "name": "stdout",
     "output_type": "stream",
     "text": [
      "✅ SVM Accuracy: 0.3676\n",
      "🕒 Training Time: 0.02 seconds\n",
      "              precision    recall  f1-score   support\n",
      "\n",
      "           0       0.24      0.82      0.37        11\n",
      "           1       1.00      0.92      0.96        12\n",
      "           2       0.20      0.12      0.15        16\n",
      "           3       0.50      0.09      0.15        11\n",
      "           4       0.29      0.11      0.16        18\n",
      "\n",
      "    accuracy                           0.37        68\n",
      "   macro avg       0.44      0.41      0.36        68\n",
      "weighted avg       0.42      0.37      0.33        68\n",
      "\n"
     ]
    },
    {
     "data": {
      "text/plain": [
       "['svm_model.pkl']"
      ]
     },
     "execution_count": 32,
     "metadata": {},
     "output_type": "execute_result"
    }
   ],
   "source": [
    "import pandas as pd\n",
    "import time\n",
    "import joblib\n",
    "from sklearn.model_selection import train_test_split\n",
    "from sklearn.svm import SVC\n",
    "from sklearn.metrics import accuracy_score, classification_report\n",
    "\n",
    "# Load dataset\n",
    "df = pd.read_csv(\"transformed_land_mines.csv\")\n",
    "\n",
    "# Prepare data\n",
    "X = df.drop(columns=[\"M\",\"V\"])\n",
    "y = df[\"M\"]-1\n",
    "\n",
    "# Split into train-test sets\n",
    "X_train, X_test, y_train, y_test = train_test_split(X, y, test_size=0.2, random_state=42)\n",
    "\n",
    "# Initialize model\n",
    "model = SVC(kernel=\"rbf\", probability=True)\n",
    "\n",
    "# Train\n",
    "start_time = time.time()\n",
    "model.fit(X_train, y_train)\n",
    "end_time = time.time()\n",
    "\n",
    "# Evaluate\n",
    "y_pred = model.predict(X_test)\n",
    "accuracy = accuracy_score(y_test, y_pred)\n",
    "\n",
    "print(f\"✅ SVM Accuracy: {accuracy:.4f}\")\n",
    "print(f\"🕒 Training Time: {end_time - start_time:.2f} seconds\")\n",
    "print(classification_report(y_test, y_pred))\n",
    "\n",
    "# Save model\n",
    "joblib.dump(model, \"svm_model.pkl\")\n"
   ]
  }
 ],
 "metadata": {
  "kernelspec": {
   "display_name": "fds",
   "language": "python",
   "name": "python3"
  },
  "language_info": {
   "codemirror_mode": {
    "name": "ipython",
    "version": 3
   },
   "file_extension": ".py",
   "mimetype": "text/x-python",
   "name": "python",
   "nbconvert_exporter": "python",
   "pygments_lexer": "ipython3",
   "version": "3.12.1"
  }
 },
 "nbformat": 4,
 "nbformat_minor": 2
}
